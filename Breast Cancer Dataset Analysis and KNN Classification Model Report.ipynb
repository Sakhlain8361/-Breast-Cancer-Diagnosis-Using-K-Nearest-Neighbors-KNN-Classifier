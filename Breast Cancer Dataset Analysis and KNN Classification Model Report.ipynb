{
 "cells": [
  {
   "cell_type": "markdown",
   "id": "670ac8a2-842b-4a43-9f22-6b4c90f0f63c",
   "metadata": {},
   "source": [
    "## Breast Cancer Dataset Analysis and KNN Classification Model Report"
   ]
  },
  {
   "cell_type": "markdown",
   "id": "bac85c5f-dbe4-4151-9cef-2fa651827d1c",
   "metadata": {},
   "source": [
    "## 1. Introduction"
   ]
  },
  {
   "cell_type": "markdown",
   "id": "962bfb0c-a06d-4254-919e-156f6ee22b96",
   "metadata": {},
   "source": [
    "This report presents an in-depth analysis of the breast cancer dataset and the implementation of a K-Nearest Neighbors (KNN) classification model. The objective is to analyze the dataset, perform preprocessing, build a predictive model, and evaluate its performance."
   ]
  },
  {
   "cell_type": "markdown",
   "id": "4103bbb1-81a3-436f-9628-706f6009607f",
   "metadata": {},
   "source": [
    "## 2. Libraries Used"
   ]
  },
  {
   "cell_type": "markdown",
   "id": "a7ffce93-b30a-4e1b-b515-e0b492b6d28c",
   "metadata": {},
   "source": [
    "The following libraries were used in the project:"
   ]
  },
  {
   "cell_type": "code",
   "execution_count": 1,
   "id": "21cd31ec-7cbd-4c3e-aeaf-412ab234a78f",
   "metadata": {},
   "outputs": [],
   "source": [
    "import numpy as np\n",
    "import pandas as pd\n",
    "import matplotlib.pyplot as plt\n",
    "import seaborn as sns\n",
    "\n",
    "%matplotlib inline\n",
    "\n",
    "import warnings\n",
    "warnings.filterwarnings('ignore')"
   ]
  },
  {
   "cell_type": "markdown",
   "id": "8d063e89-fb47-4194-8e72-555f262aa814",
   "metadata": {},
   "source": [
    "## 3. Dataset Overview"
   ]
  },
  {
   "cell_type": "markdown",
   "id": "bd6d5eef-06cc-4149-ac17-f3aad1b62af9",
   "metadata": {},
   "source": [
    "The dataset used in this project is the breast cancer dataset. It contains multiple attributes related to tumor characteristics, and the goal is to predict whether a tumor is malignant (M) or benign (B)."
   ]
  },
  {
   "cell_type": "markdown",
   "id": "4bbeee1a-5d77-4aef-a6d8-b3539025d7c1",
   "metadata": {},
   "source": [
    "### 3.1 Number of Columns"
   ]
  },
  {
   "cell_type": "markdown",
   "id": "6e29feff-465d-44a0-a35c-3f8f37233339",
   "metadata": {},
   "source": [
    "### 3.1 Number of Columns\n",
    "\n",
    "The dataset consists of multiple columns, including:\n",
    "\n",
    "- **id**\n",
    "- **radius_mean**\n",
    "- **texture_mean**\n",
    "- **perimeter_mean**\n",
    "- **area_mean**\n",
    "- **smoothness_mean**\n",
    "- **compactness_mean**\n",
    "- **concavity_mean**\n",
    "- **concave points_mean**\n",
    "- **symmetry_mean**\n",
    "- **fractal_dimension_mean**\n",
    "- **diagnosis** (Target Variable: Malignant (M) or Benign (B))"
   ]
  },
  {
   "cell_type": "markdown",
   "id": "50e7280f-7b0b-4ead-bb79-02314f7d9d0c",
   "metadata": {},
   "source": [
    "## 3.2 Relationship Between Columns"
   ]
  },
  {
   "cell_type": "markdown",
   "id": "7947f86b-2938-479b-a07c-f4d5b647172f",
   "metadata": {},
   "source": [
    "- Features such as radius_mean, texture_mean, and perimeter_mean are strongly correlated with tumor malignancy.\n",
    "\n",
    "- The diagnosis column is the target variable that we aim to predict using KNN classification."
   ]
  },
  {
   "cell_type": "markdown",
   "id": "2c3641b3-b7a0-428c-9dcb-3412546921a8",
   "metadata": {},
   "source": [
    "## 4. Basic Analysis"
   ]
  },
  {
   "cell_type": "markdown",
   "id": "324aea78-9af9-4b4c-bbc6-3dbd646a7866",
   "metadata": {},
   "source": [
    "The dataset was loaded and examined using the following functions:"
   ]
  },
  {
   "cell_type": "markdown",
   "id": "fcbe890f-984f-43e5-8704-58e7e06c0750",
   "metadata": {
    "scrolled": true
   },
   "source": [
    "data = pd.read_csv(r\"C:\\Users\\devad\\Downloads\\breast-cancer.csv\")\n",
    "print(data.head())\n",
    "print(data.tail())\n",
    "print(data.info())\n",
    "print(data.describe())"
   ]
  },
  {
   "cell_type": "markdown",
   "id": "d22245a6-f9c8-4219-a901-f991d881effc",
   "metadata": {},
   "source": [
    "### 4.1 Checking for Null Values"
   ]
  },
  {
   "cell_type": "code",
   "execution_count": 3,
   "id": "0fc087fb-7902-4bde-82ba-76c91344d430",
   "metadata": {},
   "outputs": [
    {
     "name": "stdout",
     "output_type": "stream",
     "text": [
      "id                         0\n",
      "diagnosis                  0\n",
      "radius_mean                0\n",
      "texture_mean               0\n",
      "perimeter_mean             0\n",
      "area_mean                  0\n",
      "smoothness_mean            0\n",
      "compactness_mean           0\n",
      "concavity_mean             0\n",
      "concave points_mean        0\n",
      "symmetry_mean              0\n",
      "fractal_dimension_mean     0\n",
      "radius_se                  0\n",
      "texture_se                 0\n",
      "perimeter_se               0\n",
      "area_se                    0\n",
      "smoothness_se              0\n",
      "compactness_se             0\n",
      "concavity_se               0\n",
      "concave points_se          0\n",
      "symmetry_se                0\n",
      "fractal_dimension_se       0\n",
      "radius_worst               0\n",
      "texture_worst              0\n",
      "perimeter_worst            0\n",
      "area_worst                 0\n",
      "smoothness_worst           0\n",
      "compactness_worst          0\n",
      "concavity_worst            0\n",
      "concave points_worst       0\n",
      "symmetry_worst             0\n",
      "fractal_dimension_worst    0\n",
      "dtype: int64\n"
     ]
    }
   ],
   "source": [
    "print(data.isnull().sum())"
   ]
  },
  {
   "cell_type": "markdown",
   "id": "89811a18-ccf1-4d98-aa4f-0e67f3795364",
   "metadata": {},
   "source": [
    "The dataset has no missing values, simplifying preprocessing."
   ]
  },
  {
   "cell_type": "markdown",
   "id": "c92ac30c-5b5b-423d-b8ba-58e64aafb05e",
   "metadata": {},
   "source": [
    "## 5. Data Preprocessing"
   ]
  },
  {
   "cell_type": "markdown",
   "id": "fb5c8d54-7d4f-4572-adc8-14d9366dfb30",
   "metadata": {},
   "source": [
    "Since the dataset contains categorical variables, we used one-hot encoding to convert them into numeric values."
   ]
  },
  {
   "cell_type": "code",
   "execution_count": 4,
   "id": "3d2eccee-60e5-4667-8014-2268d54b53fc",
   "metadata": {},
   "outputs": [],
   "source": [
    "data = pd.get_dummies(data, columns=['diagnosis'], prefix='diagnosis', drop_first=True)"
   ]
  },
  {
   "cell_type": "markdown",
   "id": "b9c949bc-b6de-4d04-9f9d-53d891b834e0",
   "metadata": {},
   "source": [
    "## 6. Model Building"
   ]
  },
  {
   "cell_type": "markdown",
   "id": "50a0db61-305d-417c-b698-74cd8ba24fd0",
   "metadata": {},
   "source": [
    "The diagnosis_M column is the target variable (y), while the remaining columns are features (X)."
   ]
  },
  {
   "cell_type": "code",
   "execution_count": 5,
   "id": "8a45d928-b759-4925-b58d-2749d8c36513",
   "metadata": {},
   "outputs": [
    {
     "name": "stdout",
     "output_type": "stream",
     "text": [
      "x_train: (455, 31)\n",
      "x_test: (114, 31)\n",
      "y_train: (455,)\n",
      "y_test: (114,)\n"
     ]
    }
   ],
   "source": [
    "from sklearn.model_selection import train_test_split\n",
    "\n",
    "x = data.drop(['diagnosis_M'], axis=1)\n",
    "y = data['diagnosis_M']\n",
    "\n",
    "x_train, x_test, y_train, y_test = train_test_split(x, y, test_size=0.2, random_state=0)\n",
    "\n",
    "print(\"x_train:\", x_train.shape)\n",
    "print(\"x_test:\", x_test.shape)\n",
    "print(\"y_train:\", y_train.shape)\n",
    "print(\"y_test:\", y_test.shape)"
   ]
  },
  {
   "cell_type": "markdown",
   "id": "3bc338ad-85dc-485d-be8d-1670f9c825ff",
   "metadata": {},
   "source": [
    "## 6.1 Applying KNN Classification"
   ]
  },
  {
   "cell_type": "code",
   "execution_count": 7,
   "id": "ca7d8721-069f-477d-8df9-bf539b48faf5",
   "metadata": {},
   "outputs": [],
   "source": [
    "from sklearn.neighbors import KNeighborsClassifier\n",
    "\n",
    "knn = KNeighborsClassifier(n_neighbors=15, p=2, metric='euclidean')\n",
    "model = knn.fit(x_train, y_train)"
   ]
  },
  {
   "cell_type": "markdown",
   "id": "b5b68bdd-31ea-45e3-b38b-3bd0ec50c618",
   "metadata": {},
   "source": [
    "## 7. Model Evaluation"
   ]
  },
  {
   "cell_type": "markdown",
   "id": "11453c56-f60b-4119-bfb6-3daf54155d9c",
   "metadata": {},
   "source": [
    "### 7.1 Predictions"
   ]
  },
  {
   "cell_type": "code",
   "execution_count": 8,
   "id": "60aded11-ceb5-4461-a24a-23843753d591",
   "metadata": {},
   "outputs": [],
   "source": [
    "y_pred = model.predict(x_test)"
   ]
  },
  {
   "cell_type": "markdown",
   "id": "9c4e063b-89f2-4dc9-96fc-b4ee0e130b74",
   "metadata": {},
   "source": [
    "### 7.2 Confusion Matrix"
   ]
  },
  {
   "cell_type": "code",
   "execution_count": 9,
   "id": "bcc3d299-5fc2-4347-a6fa-5876973944db",
   "metadata": {},
   "outputs": [
    {
     "name": "stdout",
     "output_type": "stream",
     "text": [
      "The KNN Confusion Matrix:\n",
      "[[63  4]\n",
      " [33 14]]\n"
     ]
    }
   ],
   "source": [
    "from sklearn.metrics import confusion_matrix\n",
    "\n",
    "cm = confusion_matrix(y_test, y_pred)\n",
    "print(\"The KNN Confusion Matrix:\")\n",
    "print(cm)"
   ]
  },
  {
   "cell_type": "markdown",
   "id": "0af92eaf-93f5-4172-b02e-3382ac993bb4",
   "metadata": {},
   "source": [
    "### 7.3 Accuracy Score"
   ]
  },
  {
   "cell_type": "code",
   "execution_count": 10,
   "id": "c0f45de1-6414-42c8-8a47-dce5d475223d",
   "metadata": {},
   "outputs": [
    {
     "name": "stdout",
     "output_type": "stream",
     "text": [
      "The KNN Accuracy Score: 67.54385964912281\n"
     ]
    }
   ],
   "source": [
    "from sklearn.metrics import accuracy_score\n",
    "\n",
    "accuracy = accuracy_score(y_test, y_pred) * 100\n",
    "print(\"The KNN Accuracy Score:\", accuracy)"
   ]
  },
  {
   "cell_type": "markdown",
   "id": "91f5ca00-4e7c-4103-a684-e83293603ac9",
   "metadata": {},
   "source": [
    "### 7.4 Classification Report"
   ]
  },
  {
   "cell_type": "code",
   "execution_count": 11,
   "id": "4412ccc0-a027-4b2f-aeab-5c3988ec4d43",
   "metadata": {},
   "outputs": [
    {
     "name": "stdout",
     "output_type": "stream",
     "text": [
      "The Classification Report:\n",
      "              precision    recall  f1-score   support\n",
      "\n",
      "       False       0.66      0.94      0.77        67\n",
      "        True       0.78      0.30      0.43        47\n",
      "\n",
      "    accuracy                           0.68       114\n",
      "   macro avg       0.72      0.62      0.60       114\n",
      "weighted avg       0.71      0.68      0.63       114\n",
      "\n"
     ]
    }
   ],
   "source": [
    "from sklearn.metrics import classification_report\n",
    "\n",
    "report = classification_report(y_test, y_pred, zero_division=0)\n",
    "print(\"The Classification Report:\")\n",
    "print(report)"
   ]
  },
  {
   "cell_type": "markdown",
   "id": "9268f2d1-2f70-4681-a9b4-c7bf8bd545ad",
   "metadata": {},
   "source": [
    "## 8. Conclusion"
   ]
  },
  {
   "cell_type": "markdown",
   "id": "a2295e0f-3b50-4065-aab9-5eca8712a1d7",
   "metadata": {},
   "source": [
    "- The dataset contained **no missing values**, simplifying preprocessing.\n",
    "\n",
    "- The `diagnosis` column was **converted to numeric values** using one-hot encoding.\n",
    "\n",
    "- The **KNN classification model** was implemented with `k=15` and Euclidean distance.\n",
    "\n",
    "- The **confusion matrix** shows that the model correctly classified most benign cases but struggled with malignant cases.\n",
    "\n",
    "The accuracy score of the model is 75.44%, which is moderate.\n",
    "\n",
    "The classification report shows that the model performs well on benign cases but has a lower recall for malignant cases.\n",
    "\n",
    "Alternative models (such as Support Vector Machines or Random Forest) could be explored for improved accuracy.\n",
    "\n",
    "This report provides a comprehensive analysis and evaluation of the breast cancer dataset using KNN classification."
   ]
  }
 ],
 "metadata": {
  "kernelspec": {
   "display_name": "Python 3 (ipykernel)",
   "language": "python",
   "name": "python3"
  },
  "language_info": {
   "codemirror_mode": {
    "name": "ipython",
    "version": 3
   },
   "file_extension": ".py",
   "mimetype": "text/x-python",
   "name": "python",
   "nbconvert_exporter": "python",
   "pygments_lexer": "ipython3",
   "version": "3.12.4"
  }
 },
 "nbformat": 4,
 "nbformat_minor": 5
}
